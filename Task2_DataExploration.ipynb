{
  "nbformat": 4,
  "nbformat_minor": 0,
  "metadata": {
    "colab": {
      "private_outputs": true,
      "provenance": []
    },
    "kernelspec": {
      "name": "python3",
      "display_name": "Python 3"
    },
    "language_info": {
      "name": "python"
    }
  },
  "cells": [
    {
      "cell_type": "code",
      "execution_count": null,
      "metadata": {
        "id": "Vj-ZSgJi4bLf"
      },
      "outputs": [],
      "source": [
        "# Import necessary libraries\n",
        "import pandas as pd\n",
        "import seaborn as sns\n",
        "import matplotlib.pyplot as plt\n",
        "from sklearn.datasets import load_iris\n",
        "\n",
        "# Load the Iris dataset\n",
        "iris = load_iris()\n",
        "iris_df = pd.DataFrame(data=iris.data, columns=iris.feature_names)\n",
        "iris_df['species'] = pd.Categorical.from_codes(iris.target, iris.target_names)\n",
        "\n",
        "# Check for missing values\n",
        "missing_values = iris_df.isnull().sum()\n",
        "if missing_values.sum() == 0:\n",
        "    print(\"No missing values detected.\")\n",
        "else:\n",
        "    print(\"Missing values in each feature:\\n\", missing_values)\n",
        "    # Example handling: fill missing values with the mean of the column (if any missing values)\n",
        "    iris_df.fillna(iris_df.mean(), inplace=True)\n",
        "\n",
        "# Visualizations\n",
        "# Pair plot to explore the relationships between features\n",
        "sns.pairplot(iris_df, hue='species', markers=[\"o\", \"s\", \"D\"])\n",
        "plt.suptitle('Pair Plot of Iris Dataset Features', verticalalignment='top')\n",
        "plt.show()\n",
        "\n",
        "# Box plots to examine the distribution and identify any outliers\n",
        "fig, axes = plt.subplots(2, 2, figsize=(12, 10))\n",
        "sns.boxplot(x='species', y='sepal length (cm)', data=iris_df, ax=axes[0, 0])\n",
        "sns.boxplot(x='species', y='sepal width (cm)', data=iris_df, ax=axes[0, 1])\n",
        "sns.boxplot(x='species', y='petal length (cm)', data=iris_df, ax=axes[1, 0])\n",
        "sns.boxplot(x='species', y='petal width (cm)', data=iris_df, ax=axes[1, 1])\n",
        "plt.tight_layout()\n",
        "plt.show()\n",
        "\n",
        "# Violin plots to get a deeper understanding of the density of the data\n",
        "fig, axes = plt.subplots(2, 2, figsize=(12, 10))\n",
        "sns.violinplot(x='species', y='sepal length (cm)', data=iris_df, ax=axes[0, 0])\n",
        "sns.violinplot(x='species', y='sepal width (cm)', data=iris_df, ax=axes[0, 1])\n",
        "sns.violinplot(x='species', y='petal length (cm)', data=iris_df, ax=axes[1, 0])\n",
        "sns.violinplot(x='species', y='petal width (cm)', data=iris_df, ax=axes[1, 1])\n",
        "plt.tight_layout()\n",
        "plt.show()\n",
        "\n",
        "# Show first few entries\n",
        "print(\"First few entries of the dataset:\\n\", iris_df.head())\n"
      ]
    }
  ]
}